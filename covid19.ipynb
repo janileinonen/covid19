import matplotlib.pyplot as plt
import pandas as pd
url = "https://raw.githubusercontent.com/CSSEGISandData/COVID-19/master/csse_covid_19_data/csse_covid_19_time_series/time_series_19-covid-Confirmed.csv"
url_d ="https://raw.githubusercontent.com/CSSEGISandData/COVID-19/master/csse_covid_19_data/csse_covid_19_time_series/time_series_19-covid-Deaths.csv"
url_r ="https://raw.githubusercontent.com/CSSEGISandData/COVID-19/master/csse_covid_19_data/csse_covid_19_time_series/time_series_19-covid-Recovered.csv"
c = pd.read_csv(url)
c_d = pd.read_csv(url_d)
c_r = pd.read_csv(url_r)
print(c.columns)
summa = c.sum()
summa_d = c_d.sum()
summa_r = c_r.sum()
